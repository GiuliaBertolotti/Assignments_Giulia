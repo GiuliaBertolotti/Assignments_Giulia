{
  "nbformat": 4,
  "nbformat_minor": 0,
  "metadata": {
    "colab": {
      "name": "Untitled",
      "provenance": [],
      "authorship_tag": "ABX9TyP79MyFokEKA4l8WYpnbLu1",
      "include_colab_link": true
    },
    "kernelspec": {
      "name": "python3",
      "display_name": "Python 3"
    }
  },
  "cells": [
    {
      "cell_type": "markdown",
      "metadata": {
        "id": "view-in-github",
        "colab_type": "text"
      },
      "source": [
        "<a href=\"https://colab.research.google.com/github/GiuliaBertolotti/Assignments_Giulia/blob/main/Assignement_2_Giulia_Bertolotti.ipynb\" target=\"_parent\"><img src=\"https://colab.research.google.com/assets/colab-badge.svg\" alt=\"Open In Colab\"/></a>"
      ]
    },
    {
      "cell_type": "code",
      "metadata": {
        "id": "dnmqJfELmUx7"
      },
      "source": [
        "# Import libraries\n",
        "import pandas as pd # for loading and manipulating data\n",
        "import matplotlib.pyplot as plt # plotting library"
      ],
      "execution_count": 1,
      "outputs": []
    },
    {
      "cell_type": "code",
      "metadata": {
        "id": "dqr_2S3_nqzf"
      },
      "source": [
        "#Load data \n",
        "dat_Rossalm=pd.read_csv(\"https://raw.githubusercontent.com/ds4geo/ds4geo/master/student_submitted_data/Rossalm_HS_LT_LF_Tim_Philipp.csv\")"
      ],
      "execution_count": 3,
      "outputs": []
    },
    {
      "cell_type": "code",
      "metadata": {
        "id": "bM8MSYqLuBLa",
        "outputId": "ab8baea4-8177-41ae-bc66-a08c42cdc7f7",
        "colab": {
          "base_uri": "https://localhost:8080/",
          "height": 406
        }
      },
      "source": [
        "# Display an overview of the loaded data\n",
        "dat_Rossalm"
      ],
      "execution_count": 4,
      "outputs": [
        {
          "output_type": "execute_result",
          "data": {
            "text/html": [
              "<div>\n",
              "<style scoped>\n",
              "    .dataframe tbody tr th:only-of-type {\n",
              "        vertical-align: middle;\n",
              "    }\n",
              "\n",
              "    .dataframe tbody tr th {\n",
              "        vertical-align: top;\n",
              "    }\n",
              "\n",
              "    .dataframe thead th {\n",
              "        text-align: right;\n",
              "    }\n",
              "</style>\n",
              "<table border=\"1\" class=\"dataframe\">\n",
              "  <thead>\n",
              "    <tr style=\"text-align: right;\">\n",
              "      <th></th>\n",
              "      <th>datetime [CET]</th>\n",
              "      <th>snow height [cm]</th>\n",
              "      <th>air temperature [°C]</th>\n",
              "      <th>relative humidity [%]</th>\n",
              "    </tr>\n",
              "  </thead>\n",
              "  <tbody>\n",
              "    <tr>\n",
              "      <th>0</th>\n",
              "      <td>2014-08-01 03:30:00</td>\n",
              "      <td>-3.9</td>\n",
              "      <td>9.2</td>\n",
              "      <td>83.8</td>\n",
              "    </tr>\n",
              "    <tr>\n",
              "      <th>1</th>\n",
              "      <td>2014-08-01 03:40:00</td>\n",
              "      <td>-4.6</td>\n",
              "      <td>9.4</td>\n",
              "      <td>83.4</td>\n",
              "    </tr>\n",
              "    <tr>\n",
              "      <th>2</th>\n",
              "      <td>2014-08-01 03:50:00</td>\n",
              "      <td>-5.3</td>\n",
              "      <td>9.2</td>\n",
              "      <td>84.8</td>\n",
              "    </tr>\n",
              "    <tr>\n",
              "      <th>3</th>\n",
              "      <td>2014-08-01 04:10:00</td>\n",
              "      <td>-4.2</td>\n",
              "      <td>8.9</td>\n",
              "      <td>89.2</td>\n",
              "    </tr>\n",
              "    <tr>\n",
              "      <th>4</th>\n",
              "      <td>2014-08-01 04:20:00</td>\n",
              "      <td>-4.2</td>\n",
              "      <td>8.6</td>\n",
              "      <td>94.2</td>\n",
              "    </tr>\n",
              "    <tr>\n",
              "      <th>...</th>\n",
              "      <td>...</td>\n",
              "      <td>...</td>\n",
              "      <td>...</td>\n",
              "      <td>...</td>\n",
              "    </tr>\n",
              "    <tr>\n",
              "      <th>324420</th>\n",
              "      <td>2020-10-01 23:20:00</td>\n",
              "      <td>3.1</td>\n",
              "      <td>3.4</td>\n",
              "      <td>99.6</td>\n",
              "    </tr>\n",
              "    <tr>\n",
              "      <th>324421</th>\n",
              "      <td>2020-10-01 23:30:00</td>\n",
              "      <td>3.0</td>\n",
              "      <td>3.4</td>\n",
              "      <td>99.5</td>\n",
              "    </tr>\n",
              "    <tr>\n",
              "      <th>324422</th>\n",
              "      <td>2020-10-01 23:40:00</td>\n",
              "      <td>3.0</td>\n",
              "      <td>3.4</td>\n",
              "      <td>99.6</td>\n",
              "    </tr>\n",
              "    <tr>\n",
              "      <th>324423</th>\n",
              "      <td>2020-10-01 23:50:00</td>\n",
              "      <td>3.1</td>\n",
              "      <td>3.4</td>\n",
              "      <td>99.6</td>\n",
              "    </tr>\n",
              "    <tr>\n",
              "      <th>324424</th>\n",
              "      <td>2020-10-02 00:00:00</td>\n",
              "      <td>3.0</td>\n",
              "      <td>3.5</td>\n",
              "      <td>99.6</td>\n",
              "    </tr>\n",
              "  </tbody>\n",
              "</table>\n",
              "<p>324425 rows × 4 columns</p>\n",
              "</div>"
            ],
            "text/plain": [
              "             datetime [CET]  ...  relative humidity [%]\n",
              "0       2014-08-01 03:30:00  ...                   83.8\n",
              "1       2014-08-01 03:40:00  ...                   83.4\n",
              "2       2014-08-01 03:50:00  ...                   84.8\n",
              "3       2014-08-01 04:10:00  ...                   89.2\n",
              "4       2014-08-01 04:20:00  ...                   94.2\n",
              "...                     ...  ...                    ...\n",
              "324420  2020-10-01 23:20:00  ...                   99.6\n",
              "324421  2020-10-01 23:30:00  ...                   99.5\n",
              "324422  2020-10-01 23:40:00  ...                   99.6\n",
              "324423  2020-10-01 23:50:00  ...                   99.6\n",
              "324424  2020-10-02 00:00:00  ...                   99.6\n",
              "\n",
              "[324425 rows x 4 columns]"
            ]
          },
          "metadata": {
            "tags": []
          },
          "execution_count": 4
        }
      ]
    },
    {
      "cell_type": "code",
      "metadata": {
        "id": "YD5SBcXr_Zpp",
        "outputId": "287e9ad0-447e-4183-9583-1e890ca66a57",
        "colab": {
          "base_uri": "https://localhost:8080/",
          "height": 34
        }
      },
      "source": [
        "# Rename columns\n",
        "dat_Rossalm.columns=[\"datetime\",\"snow_h\",\"air_temp\",\"rel_hum\"]\n",
        "print(dat_Rossalm.columns)"
      ],
      "execution_count": 5,
      "outputs": [
        {
          "output_type": "stream",
          "text": [
            "Index(['datetime', 'snow_h', 'air_temp', 'rel_hum'], dtype='object')\n"
          ],
          "name": "stdout"
        }
      ]
    },
    {
      "cell_type": "code",
      "metadata": {
        "id": "zZLUFwxAv-7p",
        "outputId": "7c7c8a41-f5e1-452a-e691-5cc5e4a0c498",
        "colab": {
          "base_uri": "https://localhost:8080/",
          "height": 347
        }
      },
      "source": [
        "# Select a subset\n",
        "dat_Rossalm[0:10]"
      ],
      "execution_count": 10,
      "outputs": [
        {
          "output_type": "execute_result",
          "data": {
            "text/html": [
              "<div>\n",
              "<style scoped>\n",
              "    .dataframe tbody tr th:only-of-type {\n",
              "        vertical-align: middle;\n",
              "    }\n",
              "\n",
              "    .dataframe tbody tr th {\n",
              "        vertical-align: top;\n",
              "    }\n",
              "\n",
              "    .dataframe thead th {\n",
              "        text-align: right;\n",
              "    }\n",
              "</style>\n",
              "<table border=\"1\" class=\"dataframe\">\n",
              "  <thead>\n",
              "    <tr style=\"text-align: right;\">\n",
              "      <th></th>\n",
              "      <th>datetime</th>\n",
              "      <th>snow_h</th>\n",
              "      <th>air_temp</th>\n",
              "      <th>rel_hum</th>\n",
              "    </tr>\n",
              "  </thead>\n",
              "  <tbody>\n",
              "    <tr>\n",
              "      <th>0</th>\n",
              "      <td>2014-08-01 03:30:00</td>\n",
              "      <td>-3.9</td>\n",
              "      <td>9.2</td>\n",
              "      <td>83.8</td>\n",
              "    </tr>\n",
              "    <tr>\n",
              "      <th>1</th>\n",
              "      <td>2014-08-01 03:40:00</td>\n",
              "      <td>-4.6</td>\n",
              "      <td>9.4</td>\n",
              "      <td>83.4</td>\n",
              "    </tr>\n",
              "    <tr>\n",
              "      <th>2</th>\n",
              "      <td>2014-08-01 03:50:00</td>\n",
              "      <td>-5.3</td>\n",
              "      <td>9.2</td>\n",
              "      <td>84.8</td>\n",
              "    </tr>\n",
              "    <tr>\n",
              "      <th>3</th>\n",
              "      <td>2014-08-01 04:10:00</td>\n",
              "      <td>-4.2</td>\n",
              "      <td>8.9</td>\n",
              "      <td>89.2</td>\n",
              "    </tr>\n",
              "    <tr>\n",
              "      <th>4</th>\n",
              "      <td>2014-08-01 04:20:00</td>\n",
              "      <td>-4.2</td>\n",
              "      <td>8.6</td>\n",
              "      <td>94.2</td>\n",
              "    </tr>\n",
              "    <tr>\n",
              "      <th>5</th>\n",
              "      <td>2014-08-01 04:30:00</td>\n",
              "      <td>-4.1</td>\n",
              "      <td>8.6</td>\n",
              "      <td>95.3</td>\n",
              "    </tr>\n",
              "    <tr>\n",
              "      <th>6</th>\n",
              "      <td>2014-08-01 04:40:00</td>\n",
              "      <td>-3.9</td>\n",
              "      <td>8.6</td>\n",
              "      <td>95.4</td>\n",
              "    </tr>\n",
              "    <tr>\n",
              "      <th>7</th>\n",
              "      <td>2014-08-01 04:50:00</td>\n",
              "      <td>-4.0</td>\n",
              "      <td>8.7</td>\n",
              "      <td>95.4</td>\n",
              "    </tr>\n",
              "    <tr>\n",
              "      <th>8</th>\n",
              "      <td>2014-08-01 05:10:00</td>\n",
              "      <td>-3.9</td>\n",
              "      <td>8.8</td>\n",
              "      <td>95.4</td>\n",
              "    </tr>\n",
              "    <tr>\n",
              "      <th>9</th>\n",
              "      <td>2014-08-01 05:30:00</td>\n",
              "      <td>-4.1</td>\n",
              "      <td>9.1</td>\n",
              "      <td>95.4</td>\n",
              "    </tr>\n",
              "  </tbody>\n",
              "</table>\n",
              "</div>"
            ],
            "text/plain": [
              "              datetime  snow_h  air_temp  rel_hum\n",
              "0  2014-08-01 03:30:00    -3.9       9.2     83.8\n",
              "1  2014-08-01 03:40:00    -4.6       9.4     83.4\n",
              "2  2014-08-01 03:50:00    -5.3       9.2     84.8\n",
              "3  2014-08-01 04:10:00    -4.2       8.9     89.2\n",
              "4  2014-08-01 04:20:00    -4.2       8.6     94.2\n",
              "5  2014-08-01 04:30:00    -4.1       8.6     95.3\n",
              "6  2014-08-01 04:40:00    -3.9       8.6     95.4\n",
              "7  2014-08-01 04:50:00    -4.0       8.7     95.4\n",
              "8  2014-08-01 05:10:00    -3.9       8.8     95.4\n",
              "9  2014-08-01 05:30:00    -4.1       9.1     95.4"
            ]
          },
          "metadata": {
            "tags": []
          },
          "execution_count": 10
        }
      ]
    },
    {
      "cell_type": "code",
      "metadata": {
        "id": "Fc4FLleVDmPM",
        "outputId": "722a0662-56fe-44f3-9256-6aca4a50ffcc",
        "colab": {
          "base_uri": "https://localhost:8080/",
          "height": 301
        }
      },
      "source": [
        "# Plot the subset\n",
        "plt.plot(dat_Rossalm[0:10][\"datetime\"],dat_Rossalm[0:10][\"rel_hum\"])\n",
        "plt.xlabel(\"Time\")\n",
        "plt.ylabel(\"rel. humidity (%)\")"
      ],
      "execution_count": 22,
      "outputs": [
        {
          "output_type": "execute_result",
          "data": {
            "text/plain": [
              "Text(0, 0.5, 'rel. humidity (%)')"
            ]
          },
          "metadata": {
            "tags": []
          },
          "execution_count": 22
        },
        {
          "output_type": "display_data",
          "data": {
            "image/png": "[encoded data removed]",
            "text/plain": [
              "<Figure size 432x288 with 1 Axes>"
            ]
          },
          "metadata": {
            "tags": [],
            "needs_background": "light"
          }
        }
      ]
    },
    {
      "cell_type": "code",
      "metadata": {
        "id": "zux7xWVSCozH",
        "outputId": "623e2a04-86ae-4c04-d586-fffefafc4fcd",
        "colab": {
          "base_uri": "https://localhost:8080/",
          "height": 296
        }
      },
      "source": [
        "fig,ax=plt.subplots()\n",
        "ax2=ax.twinx()\n",
        "ax.plot(dat_Rossalm[0:10][\"datetime\"],dat_Rossalm[0:10][\"snow_h\"],color=\"orange\",label='snow_h')\n",
        "ax2.plot(dat_Rossalm[0:10][\"datetime\"],dat_Rossalm[0:10][\"air_temp\"],color=\"blue\",label='air_temp')\n",
        "ax.set_xlabel(\"Time\")\n",
        "ax.set_ylabel(\"snow height (m)\")\n",
        "ax2.set_ylabel(\"airtemperature (°C)\")"
      ],
      "execution_count": 24,
      "outputs": [
        {
          "output_type": "execute_result",
          "data": {
            "text/plain": [
              "Text(0, 0.5, 'airtemperature (°C)')"
            ]
          },
          "metadata": {
            "tags": []
          },
          "execution_count": 24
        },
        {
          "output_type": "display_data",
          "data": {
            "image/png": "[encoded data removed]",
            "text/plain": [
              "<Figure size 432x288 with 2 Axes>"
            ]
          },
          "metadata": {
            "tags": [],
            "needs_background": "light"
          }
        }
      ]
    },
    {
      "cell_type": "code",
      "metadata": {
        "id": "h-8Gx5VS0WBO"
      },
      "source": [
        ""
      ],
      "execution_count": null,
      "outputs": []
    }
  ]
}