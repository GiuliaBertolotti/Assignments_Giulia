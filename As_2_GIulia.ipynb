{
  "nbformat": 4,
  "nbformat_minor": 0,
  "metadata": {
    "colab": {
      "name": "Untitled",
      "provenance": [],
      "authorship_tag": "ABX9TyP4FmQ7i9BtIP49H661NCcM",
      "include_colab_link": true
    },
    "kernelspec": {
      "name": "python3",
      "display_name": "Python 3"
    }
  },
  "cells": [
    {
      "cell_type": "markdown",
      "metadata": {
        "id": "view-in-github",
        "colab_type": "text"
      },
      "source": [
        "<a href=\"https://colab.research.google.com/github/GiuliaBertolotti/Assignments_Giulia/blob/main/As_2_GIulia.ipynb\" target=\"_parent\"><img src=\"https://colab.research.google.com/assets/colab-badge.svg\" alt=\"Open In Colab\"/></a>"
      ]
    },
    {
      "cell_type": "code",
      "metadata": {
        "id": "dnmqJfELmUx7"
      },
      "source": [
        "# Import libraries\n",
        "import pandas as pd # for loading and manipulating data\n",
        "import matplotlib.pyplot as plt # plotting library"
      ],
      "execution_count": 10,
      "outputs": []
    },
    {
      "cell_type": "code",
      "metadata": {
        "id": "dqr_2S3_nqzf"
      },
      "source": [
        "#Load data https://raw.githubusercontent.com/ds4geo/ds4geo_ws2020/master/student_submitted_data/Rossalm_HS_LT_LF_Tim_Philipp.csv?token=ARIGOV46UTQTQS7NBMODYSS7RLFG2\n",
        "dat_Domefuji=pd.read_csv(\"https://raw.githubusercontent.com/ds4geo/ds4geo_ws2020/master/student_submitted_data/Rossalm_HS_LT_LF_Tim_Philipp.csv?token=ARIGOV46UTQTQS7NBMODYSS7RLFG2\")"
      ],
      "execution_count": 15,
      "outputs": []
    },
    {
      "cell_type": "code",
      "metadata": {
        "id": "bM8MSYqLuBLa",
        "outputId": "83976738-97f1-48d3-98df-625f0e1f4175",
        "colab": {
          "base_uri": "https://localhost:8080/",
          "height": 406
        }
      },
      "source": [
        "# Display an overview of the loaded data\n",
        "dat_Domefuji"
      ],
      "execution_count": 16,
      "outputs": [
        {
          "output_type": "execute_result",
          "data": {
            "text/html": [
              "<div>\n",
              "<style scoped>\n",
              "    .dataframe tbody tr th:only-of-type {\n",
              "        vertical-align: middle;\n",
              "    }\n",
              "\n",
              "    .dataframe tbody tr th {\n",
              "        vertical-align: top;\n",
              "    }\n",
              "\n",
              "    .dataframe thead th {\n",
              "        text-align: right;\n",
              "    }\n",
              "</style>\n",
              "<table border=\"1\" class=\"dataframe\">\n",
              "  <thead>\n",
              "    <tr style=\"text-align: right;\">\n",
              "      <th></th>\n",
              "      <th>datetime [CET]</th>\n",
              "      <th>snow height [cm]</th>\n",
              "      <th>air temperature [°C]</th>\n",
              "      <th>relative humidity [%]</th>\n",
              "    </tr>\n",
              "  </thead>\n",
              "  <tbody>\n",
              "    <tr>\n",
              "      <th>0</th>\n",
              "      <td>2014-08-01 03:30:00</td>\n",
              "      <td>-3.9</td>\n",
              "      <td>9.2</td>\n",
              "      <td>83.8</td>\n",
              "    </tr>\n",
              "    <tr>\n",
              "      <th>1</th>\n",
              "      <td>2014-08-01 03:40:00</td>\n",
              "      <td>-4.6</td>\n",
              "      <td>9.4</td>\n",
              "      <td>83.4</td>\n",
              "    </tr>\n",
              "    <tr>\n",
              "      <th>2</th>\n",
              "      <td>2014-08-01 03:50:00</td>\n",
              "      <td>-5.3</td>\n",
              "      <td>9.2</td>\n",
              "      <td>84.8</td>\n",
              "    </tr>\n",
              "    <tr>\n",
              "      <th>3</th>\n",
              "      <td>2014-08-01 04:10:00</td>\n",
              "      <td>-4.2</td>\n",
              "      <td>8.9</td>\n",
              "      <td>89.2</td>\n",
              "    </tr>\n",
              "    <tr>\n",
              "      <th>4</th>\n",
              "      <td>2014-08-01 04:20:00</td>\n",
              "      <td>-4.2</td>\n",
              "      <td>8.6</td>\n",
              "      <td>94.2</td>\n",
              "    </tr>\n",
              "    <tr>\n",
              "      <th>...</th>\n",
              "      <td>...</td>\n",
              "      <td>...</td>\n",
              "      <td>...</td>\n",
              "      <td>...</td>\n",
              "    </tr>\n",
              "    <tr>\n",
              "      <th>324420</th>\n",
              "      <td>2020-10-01 23:20:00</td>\n",
              "      <td>3.1</td>\n",
              "      <td>3.4</td>\n",
              "      <td>99.6</td>\n",
              "    </tr>\n",
              "    <tr>\n",
              "      <th>324421</th>\n",
              "      <td>2020-10-01 23:30:00</td>\n",
              "      <td>3.0</td>\n",
              "      <td>3.4</td>\n",
              "      <td>99.5</td>\n",
              "    </tr>\n",
              "    <tr>\n",
              "      <th>324422</th>\n",
              "      <td>2020-10-01 23:40:00</td>\n",
              "      <td>3.0</td>\n",
              "      <td>3.4</td>\n",
              "      <td>99.6</td>\n",
              "    </tr>\n",
              "    <tr>\n",
              "      <th>324423</th>\n",
              "      <td>2020-10-01 23:50:00</td>\n",
              "      <td>3.1</td>\n",
              "      <td>3.4</td>\n",
              "      <td>99.6</td>\n",
              "    </tr>\n",
              "    <tr>\n",
              "      <th>324424</th>\n",
              "      <td>2020-10-02 00:00:00</td>\n",
              "      <td>3.0</td>\n",
              "      <td>3.5</td>\n",
              "      <td>99.6</td>\n",
              "    </tr>\n",
              "  </tbody>\n",
              "</table>\n",
              "<p>324425 rows × 4 columns</p>\n",
              "</div>"
            ],
            "text/plain": [
              "             datetime [CET]  ...  relative humidity [%]\n",
              "0       2014-08-01 03:30:00  ...                   83.8\n",
              "1       2014-08-01 03:40:00  ...                   83.4\n",
              "2       2014-08-01 03:50:00  ...                   84.8\n",
              "3       2014-08-01 04:10:00  ...                   89.2\n",
              "4       2014-08-01 04:20:00  ...                   94.2\n",
              "...                     ...  ...                    ...\n",
              "324420  2020-10-01 23:20:00  ...                   99.6\n",
              "324421  2020-10-01 23:30:00  ...                   99.5\n",
              "324422  2020-10-01 23:40:00  ...                   99.6\n",
              "324423  2020-10-01 23:50:00  ...                   99.6\n",
              "324424  2020-10-02 00:00:00  ...                   99.6\n",
              "\n",
              "[324425 rows x 4 columns]"
            ]
          },
          "metadata": {
            "tags": []
          },
          "execution_count": 16
        }
      ]
    },
    {
      "cell_type": "code",
      "metadata": {
        "id": "YD5SBcXr_Zpp",
        "outputId": "cc51f061-557d-48fc-cb83-3233f82b63b2",
        "colab": {
          "base_uri": "https://localhost:8080/",
          "height": 34
        }
      },
      "source": [
        "# Rename columns\n",
        "dat_Domefuji.columns=[\"datetime\",\"snow_h\",\"air_temp\",\"rel_hum\"]\n",
        "print(dat_Domefuji.columns)"
      ],
      "execution_count": 17,
      "outputs": [
        {
          "output_type": "stream",
          "text": [
            "Index(['datetime', 'snow_h', 'air_temp', 'rel_hum'], dtype='object')\n"
          ],
          "name": "stdout"
        }
      ]
    },
    {
      "cell_type": "code",
      "metadata": {
        "id": "Fc4FLleVDmPM"
      },
      "source": [
        "plt.plot(dat_Domefuji[\"datetime\"],dat_Domefuji[\"rel_hum\"])\n",
        "plt.xlim(right=10)\n",
        "plt.ylim(83.8,82.2)"
      ],
      "execution_count": null,
      "outputs": []
    },
    {
      "cell_type": "code",
      "metadata": {
        "id": "zux7xWVSCozH"
      },
      "source": [
        "fig,ax=plt.subplots()\n",
        "ax2=ax.twinx()\n",
        "ax.plot(dat_Domefuji[\"datetime\"],dat_Domefuji[\"snow_h\"],label=\"snow_h\")\n",
        "ax2.plot(dat_Domefuji[\"datetime\"],dat_Domefuji[\"air_temp\"],label=\"air_temp\")"
      ],
      "execution_count": null,
      "outputs": []
    }
  ]
}