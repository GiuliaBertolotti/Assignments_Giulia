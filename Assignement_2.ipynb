{
  "nbformat": 4,
  "nbformat_minor": 0,
  "metadata": {
    "colab": {
      "name": "Untitled",
      "provenance": [],
      "authorship_tag": "ABX9TyOZ58ct4z3elxa8MCiOVB43",
      "include_colab_link": true
    },
    "kernelspec": {
      "name": "python3",
      "display_name": "Python 3"
    }
  },
  "cells": [
    {
      "cell_type": "markdown",
      "metadata": {
        "id": "view-in-github",
        "colab_type": "text"
      },
      "source": [
        "<a href=\"https://colab.research.google.com/github/GiuliaBertolotti/Assignments_Giulia/blob/main/Assignement_2.ipynb\" target=\"_parent\"><img src=\"https://colab.research.google.com/assets/colab-badge.svg\" alt=\"Open In Colab\"/></a>"
      ]
    },
    {
      "cell_type": "code",
      "metadata": {
        "id": "dnmqJfELmUx7"
      },
      "source": [
        "# Import libraries\n",
        "import pandas as pd # for loading and manipulating data\n",
        "import matplotlib.pyplot as plt # plotting library"
      ],
      "execution_count": 2,
      "outputs": []
    },
    {
      "cell_type": "code",
      "metadata": {
        "id": "dqr_2S3_nqzf"
      },
      "source": [
        "#Load data\n",
        "dat_Domefuji=pd.read_csv(\"https://raw.githubusercontent.com/ds4geo/ds4geo_ws2020/master/student_submitted_data/Rossalm_HS_LT_LF_Tim_Philipp.csv?token=ARIGOV4OGP7OXMZEVEAWWDK7RK7OO\")"
      ],
      "execution_count": 53,
      "outputs": []
    },
    {
      "cell_type": "code",
      "metadata": {
        "id": "bM8MSYqLuBLa"
      },
      "source": [
        ""
      ],
      "execution_count": null,
      "outputs": []
    }
  ]
}